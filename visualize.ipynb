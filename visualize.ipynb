{
 "cells": [
  {
   "cell_type": "code",
   "execution_count": null,
   "metadata": {},
   "outputs": [
    {
     "ename": "",
     "evalue": "",
     "output_type": "error",
     "traceback": [
      "\u001b[1;31mFailed to start the Kernel. \n",
      "\u001b[1;31mView Jupyter <a href='command:jupyter.viewOutput'>log</a> for further details."
     ]
    }
   ],
   "source": [
    "import networkx as nx\n",
    "import matplotlib.pyplot as plt\n",
    "\n",
    "def visualize_bipartite_graph(input_text, node_order=None):\n",
    "    lines = input_text.strip().split('\\n')\n",
    "\n",
    "    # Filter out comments\n",
    "    lines = [line for line in lines if not line.startswith('c')]\n",
    "\n",
    "    # Find the p-line\n",
    "    p_line = next(line for line in lines if line.startswith('p'))\n",
    "    _, _, n0, n1, m = p_line.split()\n",
    "\n",
    "    n0, n1, m = int(n0), int(n1), int(m)\n",
    "\n",
    "    # Create a bipartite graph\n",
    "    G = nx.Graph()\n",
    "\n",
    "    # Add nodes from partition A\n",
    "    G.add_nodes_from(range(1, n0+1), bipartite=0)\n",
    "\n",
    "    # Add nodes from partition B\n",
    "    G.add_nodes_from(range(n0 + 1, n0 + n1+1), bipartite=1)\n",
    "\n",
    "    # Add edges\n",
    "    for line in lines[1:]:\n",
    "        x, y = map(int, line.split())\n",
    "        G.add_edge(x, y)\n",
    "\n",
    "    # Check if node_order is provided\n",
    "    if node_order is not None:\n",
    "        # Plot the graph with custom node positions\n",
    "        pos = {node: (i, 1) if node <= n0 else (node_order.index(str(node)), 0) for i, node in enumerate(G.nodes)}\n",
    "    else:\n",
    "        # Plot the graph with default node positions\n",
    "        pos = {node: (i, 1) if node <= n0 else (node - n0, 0) for i, node in enumerate(G.nodes, start=1)}\n",
    "\n",
    "    nx.draw(G, pos, with_labels=True, font_weight='bold', node_color=['skyblue' if node <= n0 else 'lightcoral' for node in G.nodes])\n",
    "    plt.show()\n",
    "\n",
    "def read_input_file(file_path):\n",
    "    with open(file_path, 'r') as file:\n",
    "        input_text = file.read()\n",
    "    return input_text\n",
    "\n",
    "def read_order_file(file_path):\n",
    "    with open(file_path, 'r') as file:\n",
    "        order = [line.strip() for line in file]\n",
    "    return order\n",
    "\n",
    "# Usage\n",
    "file_path = 'graph.txt'\n",
    "order_file = 'output.txt'\n",
    "input_text = read_input_file(file_path)\n",
    "node_order = read_order_file(order_file)\n",
    "visualize_bipartite_graph(input_text)\n",
    "visualize_bipartite_graph(input_text, node_order)\n"
   ]
  }
 ],
 "metadata": {
  "kernelspec": {
   "display_name": "Python 3 (ipykernel)",
   "language": "python",
   "name": "python3"
  }
 },
 "nbformat": 4,
 "nbformat_minor": 2
}
