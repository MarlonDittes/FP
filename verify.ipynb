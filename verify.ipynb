{
 "cells": [
  {
   "cell_type": "code",
   "execution_count": 8,
   "metadata": {},
   "outputs": [
    {
     "name": "stdout",
     "output_type": "stream",
     "text": [
      "True\n"
     ]
    }
   ],
   "source": [
    "# Define the range\n",
    "n0 = 1467\n",
    "n1_count = 1483\n",
    "n1 =n0 + n1_count\n",
    "\n",
    "# Read numbers from file\n",
    "with open('solution.sol', 'r') as file:\n",
    "    numbers = file.readlines()\n",
    "\n",
    "# Convert to integers and strip any extra whitespace\n",
    "numbers = [int(num.strip()) for num in numbers]\n",
    "\n",
    "# Check for duplicates\n",
    "if len(numbers) != len(set(numbers)):\n",
    "    print(\"There are duplicate numbers in the list.\")\n",
    "else:\n",
    "    # Filter numbers within the specified range\n",
    "    filtered_numbers = [num for num in numbers if n0 < num <= n1]\n",
    "\n",
    "    # Print the numbers within the range\n",
    "    print(len(filtered_numbers) == n1_count)\n"
   ]
  }
 ],
 "metadata": {
  "kernelspec": {
   "display_name": "Python 3",
   "language": "python",
   "name": "python3"
  },
  "language_info": {
   "codemirror_mode": {
    "name": "ipython",
    "version": 3
   },
   "file_extension": ".py",
   "mimetype": "text/x-python",
   "name": "python",
   "nbconvert_exporter": "python",
   "pygments_lexer": "ipython3",
   "version": "3.10.12"
  }
 },
 "nbformat": 4,
 "nbformat_minor": 2
}
